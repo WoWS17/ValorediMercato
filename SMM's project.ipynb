{
 "cells": [
  {
   "cell_type": "code",
   "execution_count": 5,
   "metadata": {},
   "outputs": [],
   "source": [
    "from sklearn.model_selection import train_test_split\n",
    "import numpy as np\n",
    "import pandas as pd\n",
    "import urllib.request as url_req\n",
    "from bs4 import BeautifulSoup\n",
    "import pickle\n",
    "from xgboost import XGBRegressor\n",
    "from matplotlib import pyplot as plt\n",
    "from sklearn.cluster import KMeans\n",
    "from sklearn.metrics import silhouette_score\n",
    "from sklearn.linear_model import Ridge\n",
    "from sklearn.preprocessing import PolynomialFeatures\n",
    "from sklearn.model_selection import GridSearchCV\n"
   ]
  },
  {
   "cell_type": "code",
   "execution_count": 12,
   "metadata": {},
   "outputs": [],
   "source": [
    "fantaData = pd.DataFrame({})\n",
    "transferDataSet = pd.DataFrame({})\n",
    "dataset = pd.DataFrame({})"
   ]
  },
  {
   "cell_type": "code",
   "execution_count": 7,
   "metadata": {},
   "outputs": [],
   "source": [
    "# The surname is kept and the first name is thrown out\n",
    "def extractSurname(dataset):\n",
    "    dataset.rename(columns = {'Nome' : 'Cognome'}, inplace=True)\n",
    "    dataset['Cognome'] = [str.split()[0] for str in dataset['Cognome']]\n",
    "\n",
    "\n",
    "def strToInt(dataset, var):\n",
    "    list = dataset[var].drop_duplicates().sort_values()\n",
    "    int_list = dict()\n",
    "    for i in range(len(list)):\n",
    "        int_list[list.iloc[i]] = i\n",
    "    dataset[var] = dataset[var].map(int_list)\n",
    "\n",
    "def downloadPage(url):\n",
    "    req = url_req.Request(url)\n",
    "    req.add_header('User-Agent', 'my-cool-app')\n",
    "    rawPage = url_req.urlopen(req).read()\n",
    "    return rawPage\n",
    "\n",
    "def extractLinks(baseURL, url):\n",
    "    soupPage = BeautifulSoup(downloadPage(url))\n",
    "\n",
    "    div_teams = soupPage.findAll('div', {'class' : 'grid-view'})\n",
    "    table = div_teams[0].find('table', {'class' : 'items'})\n",
    "    tbody = table.find('tbody')\n",
    "    td = tbody.findAll('td', {'class' : 'hauptlink no-border-links'})\n",
    "\n",
    "    return [baseURL + x.a['href'] for x in td]\n",
    "\n",
    "def scrapeTeam(link):\n",
    "    print(link)\n",
    "    stats = []\n",
    "    soupPage = BeautifulSoup(downloadPage(link))\n",
    "    div_teams = soupPage.find('div', {'class' : 'grid-view', 'id' : 'yw1'})\n",
    "    table = div_teams.find('table', {'class' : 'items'})\n",
    "    tbody = table.find('tbody')\n",
    "    trs = tbody.findAll('tr', {'class' : ['odd', 'even']})\n",
    "    for tr in trs:\n",
    "        # Estazione del cognome\n",
    "        cognome = tr.contents[2].find('table', {'class':'inline-table'}).tr.find('td', {'class':'hauptlink'}).div.span.a.text.split()[-1]\n",
    "        eta = tr.contents[3].text[-3:-1]\n",
    "        \n",
    "        # Estrazione del valore di mercato\n",
    "        try:\n",
    "            VdM = tr.contents[6].a.text\n",
    "        except:\n",
    "            continue\n",
    "\n",
    "        VdM = VdM.replace(',', '.').replace('€', '')\n",
    "        if 'mila' in VdM:\n",
    "            VdM = VdM.replace('mila', '')\n",
    "            unitOfMeasure = 1000\n",
    "        elif 'mln' in VdM:\n",
    "            VdM = VdM.replace('mln', '')\n",
    "            unitOfMeasure = 1000000\n",
    "        VdM = float(VdM) * unitOfMeasure\n",
    "\n",
    "        stats.append([cognome, eta, VdM])\n",
    "        \n",
    "    return stats\n",
    "\n",
    "def MAE(y_true, y_pred):\n",
    "    return np.mean(np.abs(y_pred - y_true))"
   ]
  },
  {
   "cell_type": "code",
   "execution_count": 14,
   "metadata": {},
   "outputs": [],
   "source": [
    "# CONSTRUCTION OF THE DATASET WITH FANTAGAZZETTA DATA\n",
    "\n",
    "fantaData = pd.read_excel(\"Statistiche_Fantacalcio_Stagione_2021_22_Statistico.xlsx\")\n",
    "extractSurname(fantaData)\n",
    "# Transformation of str-type variables into integers as ML models only accept numbers as input\n",
    "strToInt(fantaData, 'Squadra')\n",
    "strToInt(fantaData, 'R')\n",
    "\n",
    "# Deleting rows that have duplicate surnames\n",
    "fantaData = fantaData.drop_duplicates(subset='Cognome', keep=False)"
   ]
  },
  {
   "cell_type": "code",
   "execution_count": null,
   "metadata": {},
   "outputs": [],
   "source": [
    "# CONSTRUCTION OF THE DATASET WITH TRANSFERMARKT DATA\n",
    "\n",
    "baseURL = \"https://www.transfermarkt.it\"\n",
    "\n",
    "# Link extraction of all Serie A teams\n",
    "linksTeams = extractLinks(baseURL, \"https://www.transfermarkt.it/serie-a/startseite/wettbewerb/IT1/plus/?saison_id=2021\")\n",
    "\n",
    "totStats = []\n",
    "for linkTeam in linksTeams:\n",
    "    # For each team, retrieval of its players' information from Transfermarkt\n",
    "    totStats += scrapeTeam(linkTeam)\n",
    "\n",
    "transferDataSet = pd.DataFrame(totStats, columns=['Cognome', 'Eta', 'VdM'])\n",
    "\n",
    "# keep=False -> deletes all duplicate rows\n",
    "transferDataSet = transferDataSet.drop_duplicates(subset='Cognome', keep=False)"
   ]
  },
  {
   "cell_type": "code",
   "execution_count": 17,
   "metadata": {},
   "outputs": [],
   "source": [
    "transferDataSet = pd.read_csv(\"transferDataSet.csv\")"
   ]
  },
  {
   "cell_type": "code",
   "execution_count": 18,
   "metadata": {},
   "outputs": [],
   "source": [
    "# FINAL DATASET CREATION\n",
    "\n",
    "# merge the two dataframes based on the 'Surname' column using an inner join\n",
    "dataset = pd.merge(transferDataSet, fantaData, on='Cognome', how='inner')\n",
    "dataset.drop(columns=['Cognome'], inplace=True)"
   ]
  },
  {
   "cell_type": "code",
   "execution_count": 20,
   "metadata": {},
   "outputs": [
    {
     "data": {
      "text/html": [
       "<div>\n",
       "<style scoped>\n",
       "    .dataframe tbody tr th:only-of-type {\n",
       "        vertical-align: middle;\n",
       "    }\n",
       "\n",
       "    .dataframe tbody tr th {\n",
       "        vertical-align: top;\n",
       "    }\n",
       "\n",
       "    .dataframe thead th {\n",
       "        text-align: right;\n",
       "    }\n",
       "</style>\n",
       "<table border=\"1\" class=\"dataframe\">\n",
       "  <thead>\n",
       "    <tr style=\"text-align: right;\">\n",
       "      <th></th>\n",
       "      <th>Eta</th>\n",
       "      <th>VdM</th>\n",
       "      <th>R</th>\n",
       "      <th>Squadra</th>\n",
       "      <th>Pv</th>\n",
       "      <th>Mv</th>\n",
       "      <th>Gf</th>\n",
       "      <th>Gs</th>\n",
       "      <th>Rp</th>\n",
       "      <th>Rc</th>\n",
       "      <th>R+</th>\n",
       "      <th>R-</th>\n",
       "      <th>Ass</th>\n",
       "      <th>Amm</th>\n",
       "      <th>Esp</th>\n",
       "      <th>Au</th>\n",
       "    </tr>\n",
       "  </thead>\n",
       "  <tbody>\n",
       "    <tr>\n",
       "      <th>0</th>\n",
       "      <td>31</td>\n",
       "      <td>15000000.0</td>\n",
       "      <td>3</td>\n",
       "      <td>7</td>\n",
       "      <td>33</td>\n",
       "      <td>6.09</td>\n",
       "      <td>0</td>\n",
       "      <td>29</td>\n",
       "      <td>3</td>\n",
       "      <td>0</td>\n",
       "      <td>0</td>\n",
       "      <td>0</td>\n",
       "      <td>0</td>\n",
       "      <td>2</td>\n",
       "      <td>0</td>\n",
       "      <td>0</td>\n",
       "    </tr>\n",
       "    <tr>\n",
       "      <th>1</th>\n",
       "      <td>28</td>\n",
       "      <td>4000000.0</td>\n",
       "      <td>3</td>\n",
       "      <td>7</td>\n",
       "      <td>5</td>\n",
       "      <td>6.10</td>\n",
       "      <td>0</td>\n",
       "      <td>7</td>\n",
       "      <td>0</td>\n",
       "      <td>0</td>\n",
       "      <td>0</td>\n",
       "      <td>0</td>\n",
       "      <td>0</td>\n",
       "      <td>0</td>\n",
       "      <td>0</td>\n",
       "      <td>0</td>\n",
       "    </tr>\n",
       "    <tr>\n",
       "      <th>2</th>\n",
       "      <td>31</td>\n",
       "      <td>400000.0</td>\n",
       "      <td>3</td>\n",
       "      <td>7</td>\n",
       "      <td>1</td>\n",
       "      <td>6.50</td>\n",
       "      <td>0</td>\n",
       "      <td>1</td>\n",
       "      <td>0</td>\n",
       "      <td>0</td>\n",
       "      <td>0</td>\n",
       "      <td>0</td>\n",
       "      <td>0</td>\n",
       "      <td>0</td>\n",
       "      <td>0</td>\n",
       "      <td>0</td>\n",
       "    </tr>\n",
       "    <tr>\n",
       "      <th>3</th>\n",
       "      <td>34</td>\n",
       "      <td>6000000.0</td>\n",
       "      <td>2</td>\n",
       "      <td>7</td>\n",
       "      <td>23</td>\n",
       "      <td>6.07</td>\n",
       "      <td>5</td>\n",
       "      <td>0</td>\n",
       "      <td>0</td>\n",
       "      <td>3</td>\n",
       "      <td>3</td>\n",
       "      <td>0</td>\n",
       "      <td>0</td>\n",
       "      <td>1</td>\n",
       "      <td>0</td>\n",
       "      <td>0</td>\n",
       "    </tr>\n",
       "    <tr>\n",
       "      <th>4</th>\n",
       "      <td>26</td>\n",
       "      <td>3500000.0</td>\n",
       "      <td>2</td>\n",
       "      <td>7</td>\n",
       "      <td>12</td>\n",
       "      <td>5.96</td>\n",
       "      <td>0</td>\n",
       "      <td>0</td>\n",
       "      <td>0</td>\n",
       "      <td>0</td>\n",
       "      <td>0</td>\n",
       "      <td>0</td>\n",
       "      <td>0</td>\n",
       "      <td>2</td>\n",
       "      <td>0</td>\n",
       "      <td>0</td>\n",
       "    </tr>\n",
       "  </tbody>\n",
       "</table>\n",
       "</div>"
      ],
      "text/plain": [
       "   Eta         VdM  R  Squadra  Pv    Mv  Gf  Gs  Rp  Rc  R+  R-  Ass  Amm  \\\n",
       "0   31  15000000.0  3        7  33  6.09   0  29   3   0   0   0    0    2   \n",
       "1   28   4000000.0  3        7   5  6.10   0   7   0   0   0   0    0    0   \n",
       "2   31    400000.0  3        7   1  6.50   0   1   0   0   0   0    0    0   \n",
       "3   34   6000000.0  2        7  23  6.07   5   0   0   3   3   0    0    1   \n",
       "4   26   3500000.0  2        7  12  5.96   0   0   0   0   0   0    0    2   \n",
       "\n",
       "   Esp  Au  \n",
       "0    0   0  \n",
       "1    0   0  \n",
       "2    0   0  \n",
       "3    0   0  \n",
       "4    0   0  "
      ]
     },
     "execution_count": 20,
     "metadata": {},
     "output_type": "execute_result"
    }
   ],
   "source": [
    "# DATA RETENTION\n",
    "\n",
    "with open(\"data.pkl\",'wb') as out:\n",
    "    pickle.dump({ \n",
    "            'transferDataSet':transferDataSet,\n",
    "            'fantaData':fantaData,\n",
    "            'dataset':dataset\n",
    "        },out)\n",
    "\n",
    "dataset.head()"
   ]
  },
  {
   "cell_type": "code",
   "execution_count": 21,
   "metadata": {},
   "outputs": [
    {
     "name": "stdout",
     "output_type": "stream",
     "text": [
      "{'alpha': 30.0}\n",
      "MAE on the training set: 3636073.8\n",
      "MAE on the test set: 5607930.8 \n",
      "\n"
     ]
    }
   ],
   "source": [
    "# TRAINING A RIDGE REGRESSOR TO PREDICT MARKET VALUE\n",
    "\n",
    "pol_feats = PolynomialFeatures(degree=2)\n",
    "pol_dataset = pol_feats.fit_transform(dataset.drop(columns=['VdM']))\n",
    "X_train, X_test, y_train, y_test = train_test_split(pol_dataset, dataset['VdM'], test_size=0.15, random_state=123)\n",
    "\n",
    "rid = Ridge(random_state=123)\n",
    "\n",
    "param_grid = {'alpha': np.linspace(0.1, 30, num=100, endpoint=True)\n",
    "}\n",
    "\n",
    "gscv = GridSearchCV(rid, param_grid, cv=5)\n",
    "\n",
    "gscv.fit(X_train, y_train)\n",
    "print(gscv.best_params_)\n",
    "\n",
    "y_train_preds = gscv.predict(X_train)\n",
    "print(\"MAE on the training set: {:0.1f}\".format(MAE(y_train, y_train_preds)))\n",
    "\n",
    "y_test_preds = gscv.predict(X_test)\n",
    "print(\"MAE on the test set: {:0.1f}\".format(MAE(y_test, y_test_preds)), '\\n')\n"
   ]
  },
  {
   "cell_type": "code",
   "execution_count": 26,
   "metadata": {},
   "outputs": [
    {
     "name": "stdout",
     "output_type": "stream",
     "text": [
      "MAE on the training set: 1854466.4\n",
      "MAE on the test set: 3565253.5\n",
      "MAE on the training set: 1764318.0\n",
      "MAE on the test set: 3116207.0\n",
      "MAE on the training set: 1858036.5\n",
      "MAE on the test set: 3262220.1\n",
      "MAE on the training set: 1949871.5\n",
      "MAE on the test set: 3251821.9\n",
      "MAE on the training set: 1910010.4\n",
      "MAE on the test set: 3163118.5\n",
      "MAE on the training set: 1833419.1\n",
      "MAE on the test set: 3221629.7\n",
      "MAE on the training set: 1947175.6\n",
      "MAE on the test set: 3197630.2\n",
      "MAE on the training set: 1888081.2\n",
      "MAE on the test set: 3205830.8\n",
      "MAE on the training set: 3419026.1\n",
      "MAE on the test set: 3498345.9\n"
     ]
    }
   ],
   "source": [
    "# TRAINING OF AN XGBOOST REGRESSOR TO PREDICT MARKET VALUE\n",
    "\n",
    "dataTrain, dataTest = train_test_split(dataset, test_size=0.15, random_state=123)\n",
    "\n",
    "Y_train = dataTrain['VdM'].to_numpy()\n",
    "X_train = dataTrain.drop(columns=['VdM']).to_numpy()\n",
    "\n",
    "Y_test = dataTest['VdM'].to_numpy()\n",
    "X_test = dataTest.drop(columns=['VdM']).to_numpy()\n",
    "\n",
    "\n",
    "# Learning rate decay\n",
    "learning_rates = [0.3, 0.2, 0.1, 0.07, 0.05, 0.01, 0.007, 0.005, 0.001]\n",
    "test_error = dict()\n",
    "\n",
    "for lr in learning_rates:\n",
    "    model = XGBRegressor(n_estimators=1000, learning_rate=lr, early_stopping_rounds=5)\n",
    "    model.fit(X_train, Y_train, eval_set=[(X_test, Y_test)], verbose=False)\n",
    "\n",
    "    y_train_preds = model.predict(X_train)\n",
    "    y_test_preds = model.predict(X_test)\n",
    "\n",
    "    test_error[lr] = MAE(Y_test,y_test_preds)\n",
    "\n",
    "    print(\"MAE on the training set: {:0.1f}\".format(MAE(Y_train,y_train_preds)))\n",
    "    print(\"MAE on the test set: {:0.1f}\".format(MAE(Y_test,y_test_preds)))\n"
   ]
  },
  {
   "cell_type": "code",
   "execution_count": 27,
   "metadata": {},
   "outputs": [
    {
     "data": {
      "image/png": "[encoded data removed]",
      "text/plain": [
       "<Figure size 640x480 with 1 Axes>"
      ]
     },
     "metadata": {},
     "output_type": "display_data"
    },
    {
     "name": "stdout",
     "output_type": "stream",
     "text": [
      "The best value for learning_rate is 0.2\n"
     ]
    }
   ],
   "source": [
    "# Displaying MSE as a function of learning_rate\n",
    "\n",
    "plt.plot(learning_rates, np.array(list(test_error.values())))\n",
    "plt.xlabel('Learning rate')\n",
    "plt.ylabel('Test error')\n",
    "best_lr = min(test_error, key=test_error.get)\n",
    "x_val = best_lr\n",
    "plt.scatter(x_val, test_error[x_val], color='r')\n",
    "plt.show()\n",
    "print(\"The best value for learning_rate is\", best_lr)"
   ]
  },
  {
   "cell_type": "code",
   "execution_count": 28,
   "metadata": {},
   "outputs": [
    {
     "name": "stdout",
     "output_type": "stream",
     "text": [
      "MAE on the training set: 1764318.0\n",
      "MAE on the test set: 3116207.0\n"
     ]
    }
   ],
   "source": [
    "# Optimal model construction \n",
    "\n",
    "model = XGBRegressor(n_estimators=1000, learning_rate=x_val, early_stopping_rounds=5)\n",
    "model.fit(X_train, Y_train, eval_set=[(X_test, Y_test)], verbose=False)\n",
    "\n",
    "y_train_preds = model.predict(X_train)\n",
    "y_test_preds = model.predict(X_test)\n",
    "\n",
    "print(\"MAE on the training set: {:0.1f}\".format(MAE(Y_train,y_train_preds)))\n",
    "print(\"MAE on the test set: {:0.1f}\".format(MAE(Y_test,y_test_preds)))"
   ]
  },
  {
   "cell_type": "code",
   "execution_count": 25,
   "metadata": {},
   "outputs": [],
   "source": [
    "# DATA RETRIEVAL FOR FUTURE TESTING \n",
    "with open(\"data.pkl\",'rb') as inp:\n",
    "    data = pickle.load(inp)\n",
    "dataset = data['dataset']"
   ]
  },
  {
   "attachments": {},
   "cell_type": "markdown",
   "metadata": {},
   "source": [
    "Adesso clusterizziamo i calciatori sulla base dei ruoli : Portiere, Difensore, Centrocampista e Attaccante."
   ]
  },
  {
   "cell_type": "code",
   "execution_count": null,
   "metadata": {},
   "outputs": [],
   "source": [
    "# K-Means\n",
    "\n",
    "dataTrain, dataTest = train_test_split(dataset, test_size=0.15, random_state=456)\n",
    "\n",
    "clusterizer = KMeans(n_clusters=4)\n",
    "clusterizer.fit(dataTrain.to_numpy())\n",
    "\n",
    "train_preds = clusterizer.predict(dataTrain.to_numpy())\n",
    "test_preds = clusterizer.predict(dataTest.to_numpy())\n",
    "\n",
    "train_score = silhouette_score(dataTrain, train_preds)\n",
    "test_score = silhouette_score(dataTest, test_preds)\n",
    "\n",
    "print(\"Silouette score on TR : \", train_score)\n",
    "print(\"Silouette score on TE : \", test_score)"
   ]
  },
  {
   "attachments": {},
   "cell_type": "markdown",
   "metadata": {},
   "source": [
    "Silouette score on TR :  0.6713392568945221\\newline\n",
    "Silouette score on TE :  0.7362256674670191\\newline"
   ]
  }
 ],
 "metadata": {
  "kernelspec": {
   "display_name": "Python 3 (ipykernel)",
   "language": "python",
   "name": "python3"
  },
  "language_info": {
   "codemirror_mode": {
    "name": "ipython",
    "version": 3
   },
   "file_extension": ".py",
   "mimetype": "text/x-python",
   "name": "python",
   "nbconvert_exporter": "python",
   "pygments_lexer": "ipython3",
   "version": "3.10.6"
  },
  "vscode": {
   "interpreter": {
    "hash": "aac96aa787abee318d8ac224bf9b138b8365ef0f92ecfec638143b1ba7198e48"
   }
  }
 },
 "nbformat": 4,
 "nbformat_minor": 4
}
